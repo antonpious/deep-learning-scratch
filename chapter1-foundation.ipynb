{
 "cells": [
  {
   "cell_type": "code",
   "execution_count": 5,
   "metadata": {},
   "outputs": [
    {
     "name": "stdout",
     "output_type": "stream",
     "text": [
      "Python list operations:\n",
      "a+b: [1, 2, 3, 4, 5, 6]\n",
      "a*b has no meaning for Python lists\n"
     ]
    }
   ],
   "source": [
    "# list operation in python\n",
    "print(\"Python list operations:\")\n",
    "a = [1,2,3]\n",
    "b = [4,5,6]\n",
    "print(\"a+b:\", a+b)\n",
    "\n",
    "try: \n",
    "    print(a*b)\n",
    "except TypeError:\n",
    "    print(\"a*b has no meaning for Python lists\")\n"
   ]
  },
  {
   "cell_type": "code",
   "execution_count": 7,
   "metadata": {},
   "outputs": [
    {
     "name": "stdout",
     "output_type": "stream",
     "text": [
      "numpy array operations:\n",
      "c+d: [5 7 9]\n",
      "c*d: [ 4 10 18]\n"
     ]
    }
   ],
   "source": [
    "# list operation in numpy\n",
    "\n",
    "import numpy as np\n",
    "\n",
    "print(\"numpy array operations:\") \n",
    "c = np.array([1,2,3])\n",
    "d = np.array([4,5,6]) \n",
    "print(\"c+d:\", c+d) \n",
    "print(\"c*d:\", c*d)"
   ]
  },
  {
   "cell_type": "code",
   "execution_count": 11,
   "metadata": {},
   "outputs": [
    {
     "name": "stdout",
     "output_type": "stream",
     "text": [
      "e:\n",
      "[[1 2 3]\n",
      " [4 5 6]]\n",
      "e.sum(axis=0): [5 7 9]\n",
      "e.sum(axis=1): [ 6 15]\n"
     ]
    }
   ],
   "source": [
    "e = np.array([[1,2,3],[4,5,6]])\n",
    "print('e:')\n",
    "print(e)\n",
    "print('e.sum(axis=0):', e.sum(axis=0)) \n",
    "print('e.sum(axis=1):', e.sum(axis=1))"
   ]
  },
  {
   "cell_type": "code",
   "execution_count": 12,
   "metadata": {},
   "outputs": [
    {
     "name": "stdout",
     "output_type": "stream",
     "text": [
      "f+g:\n",
      " [[11 22 33]\n",
      " [14 25 36]]\n"
     ]
    }
   ],
   "source": [
    "# adding 1 D and 2 D arrays\n",
    "f = np.array([[1,2,3],\n",
    "            [4,5,6]])\n",
    "g = np.array([10,20,30]) \n",
    "print(\"f+g:\\n\", f+g)"
   ]
  },
  {
   "cell_type": "code",
   "execution_count": 13,
   "metadata": {},
   "outputs": [],
   "source": [
    "# defining function with type definitions\n",
    "from numpy import ndarray\n",
    "\n",
    "def square(x: ndarray) -> ndarray: \n",
    "    '''\n",
    "        Square each element in the input ndarray. \n",
    "    '''\n",
    "    return np.power(x, 2)\n",
    "\n",
    "def leaky_relu(x: ndarray) -> ndarray: \n",
    "    '''\n",
    "        Apply \"Leaky ReLU\" function to each element in ndarray. \n",
    "    '''\n",
    "    return np.maximum(0.2 * x, x)"
   ]
  },
  {
   "cell_type": "code",
   "execution_count": 14,
   "metadata": {},
   "outputs": [
    {
     "name": "stdout",
     "output_type": "stream",
     "text": [
      "6\n"
     ]
    }
   ],
   "source": [
    "# dynamic function calling example\n",
    "\n",
    "from typing import Callable\n",
    "\n",
    "\n",
    "def operate(a: int, b: int, func: Callable[[int, int], int]) -> int:\n",
    "    return func(a, b)\n",
    "\n",
    "\n",
    "def multiply(x: int, y: int) -> int:\n",
    "    return x * y\n",
    "\n",
    "\n",
    "result = operate(2, 3, multiply)\n",
    "print(result) "
   ]
  },
  {
   "cell_type": "code",
   "execution_count": 23,
   "metadata": {},
   "outputs": [
    {
     "name": "stdout",
     "output_type": "stream",
     "text": [
      "125\n"
     ]
    }
   ],
   "source": [
    "\n",
    "''' \n",
    "Note: The output of the first function become the input\n",
    "to the next function so the arguments should match\n",
    "e.g if we do a add with 2 numbers and then pass this to multiply\n",
    "with 2 numbers then you would get an error \n",
    "Python TypeError missing 1 required positional argument\n",
    "This is because when you add two numbers the results is a single number\n",
    "This can't be passed to the multiple as its expecting two numbers\n",
    "'''\n",
    "\n",
    "# dynamic function calling in a chain\n",
    "from typing import List\n",
    "\n",
    "# create another function for add\n",
    "def add(x: int, y: int) -> int:\n",
    "    return x + y\n",
    "\n",
    "def cube(x: int) -> int:\n",
    "    return x ** 3\n",
    "\n",
    "# create a chain\n",
    "chain_function = Callable[[int, int], int]\n",
    "\n",
    "# A Chain is a list of functions\n",
    "NumbersChain = List[chain_function]\n",
    "\n",
    "def chain_number_functions(chain: NumbersChain, x1: int, y1: int) -> int:\n",
    "    '''\n",
    "        Evaluates two functions in a row, in a \"Chain\". \n",
    "    '''\n",
    "    assert len(chain) == 2, \\\n",
    "    \"Length of input 'chain' should be 2\"\n",
    "    f1 = chain[0]\n",
    "    f2 = chain[1]\n",
    "    return f2(f1(x1,y1))\n",
    "\n",
    "chain_result = chain_number_functions([add, cube], 2, 3)\n",
    "print(chain_result) "
   ]
  }
 ],
 "metadata": {
  "kernelspec": {
   "display_name": "Python 3",
   "language": "python",
   "name": "python3"
  },
  "language_info": {
   "codemirror_mode": {
    "name": "ipython",
    "version": 3
   },
   "file_extension": ".py",
   "mimetype": "text/x-python",
   "name": "python",
   "nbconvert_exporter": "python",
   "pygments_lexer": "ipython3",
   "version": "3.12.2"
  },
  "orig_nbformat": 4,
  "vscode": {
   "interpreter": {
    "hash": "aee8b7b246df8f9039afb4144a1f6fd8d2ca17a180786b69acc140d282b71a49"
   }
  }
 },
 "nbformat": 4,
 "nbformat_minor": 2
}
